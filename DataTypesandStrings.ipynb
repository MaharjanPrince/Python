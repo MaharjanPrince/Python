{
 "cells": [
  {
   "cell_type": "markdown",
   "metadata": {},
   "source": [
    "# Day2 - Types variable and Strings"
   ]
  },
  {
   "cell_type": "code",
   "execution_count": 3,
   "metadata": {},
   "outputs": [
    {
     "name": "stdout",
     "output_type": "stream",
     "text": [
      "Random\n"
     ]
    }
   ],
   "source": [
    "#Input\n",
    "name = input(\"Enter your name: \")\n",
    "print(name)"
   ]
  },
  {
   "cell_type": "markdown",
   "metadata": {},
   "source": [
    "## Variables In Python\n"
   ]
  },
  {
   "cell_type": "markdown",
   "metadata": {},
   "source": [
    "\n",
    "-Variable rules Same as every other programing languages\n",
    "\n",
    "\n",
    "-If every letter in the varibale is written in uppercase then it is assumed as \"constant\" by interpreter"
   ]
  },
  {
   "cell_type": "code",
   "execution_count": 6,
   "metadata": {},
   "outputs": [
    {
     "name": "stdout",
     "output_type": "stream",
     "text": [
      "3.14\n"
     ]
    }
   ],
   "source": [
    "PI = 3.14\n",
    "print(PI)"
   ]
  },
  {
   "cell_type": "markdown",
   "metadata": {},
   "source": [
    "## Datatypes"
   ]
  },
  {
   "cell_type": "markdown",
   "metadata": {},
   "source": [
    "-str stores text data\n",
    "-Numeric type(int,float,complex)\n",
    "-Sequence Types(list, tuple, range)\n",
    "-Mapping Type(dict)\n",
    "-Set Types (set, frozenset)\n",
    "-Boolean Type(bool)"
   ]
  },
  {
   "cell_type": "markdown",
   "metadata": {},
   "source": [
    "### Excersie: Perform arithmetic Operations using Complex Number"
   ]
  },
  {
   "cell_type": "code",
   "execution_count": 9,
   "metadata": {},
   "outputs": [
    {
     "name": "stdout",
     "output_type": "stream",
     "text": [
      "(2+5j)\n",
      "<class 'complex'>\n"
     ]
    }
   ],
   "source": [
    "a = 2 + 5j #python uses j instead of i\n",
    "print(a)\n",
    "print(type(a))"
   ]
  },
  {
   "cell_type": "code",
   "execution_count": 14,
   "metadata": {},
   "outputs": [
    {
     "name": "stdout",
     "output_type": "stream",
     "text": [
      "(5+13j)\n",
      "(-1-3j)\n",
      "(-34+31j)\n",
      "(0.6301369863013698-0.0136986301369863j)\n"
     ]
    }
   ],
   "source": [
    "a = 2 + 5j\n",
    "b = 3 + 8j\n",
    "print( a + b)\n",
    "print( a - b)\n",
    "print( a * b)\n",
    "print( a / b)"
   ]
  },
  {
   "cell_type": "code",
   "execution_count": 15,
   "metadata": {},
   "outputs": [
    {
     "name": "stdout",
     "output_type": "stream",
     "text": [
      "<class 'str'>\n",
      "<class 'int'>\n"
     ]
    }
   ],
   "source": [
    "x_str = \"10\";\n",
    "print(type(x_str))\n",
    "x_int = int(x_str)\n",
    "print(type(x_int))"
   ]
  },
  {
   "cell_type": "markdown",
   "metadata": {},
   "source": [
    "### Question: Take two numbers as an input from user and add them"
   ]
  },
  {
   "cell_type": "code",
   "execution_count": 20,
   "metadata": {},
   "outputs": [
    {
     "name": "stdout",
     "output_type": "stream",
     "text": [
      "The Added number is:  8\n"
     ]
    }
   ],
   "source": [
    "x = int(input(\"First number: \"))\n",
    "y = int(input(\"Second Number: \"))\n",
    "print(\"The Added number is: \", x + y)"
   ]
  },
  {
   "cell_type": "markdown",
   "metadata": {},
   "source": [
    "## Strings\n"
   ]
  },
  {
   "cell_type": "code",
   "execution_count": 22,
   "metadata": {},
   "outputs": [
    {
     "name": "stdout",
     "output_type": "stream",
     "text": [
      "Random\n",
      "Randomarjan\n",
      " Learning Python\n"
     ]
    }
   ],
   "source": [
    "#using single quotes\n",
    "nam = 'Random'\n",
    "print(nam)\n",
    "\n",
    "#double quotes\n",
    "surnam = \"Randomarjan\"\n",
    "print(surnam)\n",
    "\n",
    "#tripple quote for multline (Doc-script)\n",
    "tutorial = \"\"\" Learning Python\"\"\"\n",
    "print(tutorial)"
   ]
  },
  {
   "cell_type": "markdown",
   "metadata": {},
   "source": [
    "### Indexing"
   ]
  },
  {
   "cell_type": "code",
   "execution_count": 23,
   "metadata": {},
   "outputs": [
    {
     "name": "stdout",
     "output_type": "stream",
     "text": [
      "P\n",
      "o\n"
     ]
    },
    {
     "ename": "IndexError",
     "evalue": "string index out of range",
     "output_type": "error",
     "traceback": [
      "\u001b[31m---------------------------------------------------------------------------\u001b[39m",
      "\u001b[31mIndexError\u001b[39m                                Traceback (most recent call last)",
      "\u001b[36mCell\u001b[39m\u001b[36m \u001b[39m\u001b[32mIn[23]\u001b[39m\u001b[32m, line 7\u001b[39m\n\u001b[32m      4\u001b[39m \u001b[38;5;28mprint\u001b[39m(text[\u001b[32m4\u001b[39m])\n\u001b[32m      6\u001b[39m \u001b[38;5;66;03m#index out of bounds\u001b[39;00m\n\u001b[32m----> \u001b[39m\u001b[32m7\u001b[39m \u001b[38;5;28mprint\u001b[39m(\u001b[43mtext\u001b[49m\u001b[43m[\u001b[49m\u001b[32;43m10\u001b[39;49m\u001b[43m]\u001b[49m)\n",
      "\u001b[31mIndexError\u001b[39m: string index out of range"
     ]
    }
   ],
   "source": [
    "#index Example\n",
    "text = 'Pythoning'\n",
    "print(text[0])\n",
    "print(text[4])\n",
    "\n",
    "#index out of bounds\n",
    "print(text[10])"
   ]
  },
  {
   "cell_type": "markdown",
   "metadata": {},
   "source": [
    "### Indexing using negative value"
   ]
  },
  {
   "cell_type": "code",
   "execution_count": 24,
   "metadata": {},
   "outputs": [
    {
     "name": "stdout",
     "output_type": "stream",
     "text": [
      "g\n",
      "n\n"
     ]
    }
   ],
   "source": [
    "print(text[-1])\n",
    "print(text[-4])"
   ]
  },
  {
   "cell_type": "markdown",
   "metadata": {},
   "source": [
    "## String Slicing\n",
    "### -ve index -6 -> -1 +ve index 0 -> 5\n",
    "-[start:end]"
   ]
  },
  {
   "cell_type": "code",
   "execution_count": 34,
   "metadata": {},
   "outputs": [
    {
     "name": "stdout",
     "output_type": "stream",
     "text": [
      "Pyth\n",
      "onin\n",
      "Python\n",
      "nin\n"
     ]
    }
   ],
   "source": [
    "print(text[0:4])\n",
    "print(text[4:8])\n",
    "print(text[:-3])\n",
    "print(text[-4:-1])"
   ]
  },
  {
   "cell_type": "markdown",
   "metadata": {},
   "source": [
    "#### [Start: End : step]"
   ]
  },
  {
   "cell_type": "code",
   "execution_count": 42,
   "metadata": {},
   "outputs": [
    {
     "name": "stdout",
     "output_type": "stream",
     "text": [
      "abcde\n",
      "ace\n",
      "jihgfedcba\n",
      "jhfdb\n"
     ]
    }
   ],
   "source": [
    "text2 = 'abcdefghij'\n",
    "print(text2[0:5])\n",
    "print(text2[0:5:2])\n",
    "print(text2[::-1])\n",
    "print(text2[::-2])"
   ]
  },
  {
   "cell_type": "markdown",
   "metadata": {},
   "source": [
    "### String Concatenation"
   ]
  },
  {
   "cell_type": "code",
   "execution_count": 45,
   "metadata": {},
   "outputs": [
    {
     "name": "stdout",
     "output_type": "stream",
     "text": [
      "Lamine Yamal\n"
     ]
    }
   ],
   "source": [
    "fName = 'Lamine'\n",
    "lName = 'Yamal'\n",
    "\n",
    "fullName = fName + ' ' + lName\n",
    "print(fullName)"
   ]
  },
  {
   "cell_type": "markdown",
   "metadata": {},
   "source": [
    "### Strings are Immutable"
   ]
  },
  {
   "cell_type": "code",
   "execution_count": 49,
   "metadata": {},
   "outputs": [
    {
     "name": "stdout",
     "output_type": "stream",
     "text": [
      "140264190732720\n"
     ]
    },
    {
     "ename": "TypeError",
     "evalue": "'str' object does not support item assignment",
     "output_type": "error",
     "traceback": [
      "\u001b[31m---------------------------------------------------------------------------\u001b[39m",
      "\u001b[31mTypeError\u001b[39m                                 Traceback (most recent call last)",
      "\u001b[36mCell\u001b[39m\u001b[36m \u001b[39m\u001b[32mIn[49]\u001b[39m\u001b[32m, line 4\u001b[39m\n\u001b[32m      2\u001b[39m temp = \u001b[33m\"\u001b[39m\u001b[33mWorld Hellow\u001b[39m\u001b[33m\"\u001b[39m\n\u001b[32m      3\u001b[39m \u001b[38;5;28mprint\u001b[39m(\u001b[38;5;28mid\u001b[39m(temp)) \u001b[38;5;66;03m#memory address\u001b[39;00m\n\u001b[32m----> \u001b[39m\u001b[32m4\u001b[39m \u001b[43mtemp\u001b[49m\u001b[43m[\u001b[49m\u001b[32;43m1\u001b[39;49m\u001b[43m]\u001b[49m = \u001b[33m'\u001b[39m\u001b[33mb\u001b[39m\u001b[33m'\u001b[39m\n\u001b[32m      5\u001b[39m \u001b[38;5;28mprint\u001b[39m(temp)\n",
      "\u001b[31mTypeError\u001b[39m: 'str' object does not support item assignment"
     ]
    }
   ],
   "source": [
    "#cannot be changed after creation\n",
    "temp = \"World Hellow\"\n",
    "print(id(temp)) #memory address\n",
    "temp[1] = 'b'\n",
    "print(temp)"
   ]
  },
  {
   "cell_type": "markdown",
   "metadata": {},
   "source": [
    "## String Method"
   ]
  },
  {
   "cell_type": "code",
   "execution_count": 52,
   "metadata": {},
   "outputs": [
    {
     "name": "stdout",
     "output_type": "stream",
     "text": [
      "Lamine Yamal 16 Yo Kid\n"
     ]
    }
   ],
   "source": [
    "#.title()\n",
    "name = \"lamine yamal 16 yo kid\"\n",
    "neweName = str.title(name)\n",
    "print(neweName)"
   ]
  },
  {
   "cell_type": "markdown",
   "metadata": {},
   "source": [
    "### String Mehod Exercises\n",
    "* Take a name from the user and print it in uppercase and lowercase\n",
    "* Count how many times the letter \"a\" appears in the string \"banana\".\n",
    "* Check if a user-entertred word starts with \"A\" or ends with \"z\"\n",
    "* Write a program that takes a full name and splits it into first and last name\n",
    "* Take a input string from user and print its reverse"
   ]
  },
  {
   "cell_type": "code",
   "execution_count": 58,
   "metadata": {},
   "outputs": [
    {
     "name": "stdout",
     "output_type": "stream",
     "text": [
      "name\n",
      "NAME\n",
      "3\n"
     ]
    }
   ],
   "source": [
    "#Q1\n",
    "name = input(\"Enter name: \")\n",
    "print(str.lower(name))\n",
    "print(str.upper(name))\n",
    "\n",
    "#Q2\n",
    "var = \"banana\"\n",
    "print(var.count('a'))\n"
   ]
  },
  {
   "cell_type": "code",
   "execution_count": null,
   "metadata": {},
   "outputs": [],
   "source": []
  }
 ],
 "metadata": {
  "kernelspec": {
   "display_name": "day2",
   "language": "python",
   "name": "python3"
  },
  "language_info": {
   "codemirror_mode": {
    "name": "ipython",
    "version": 3
   },
   "file_extension": ".py",
   "mimetype": "text/x-python",
   "name": "python",
   "nbconvert_exporter": "python",
   "pygments_lexer": "ipython3",
   "version": "3.12.3"
  }
 },
 "nbformat": 4,
 "nbformat_minor": 2
}
