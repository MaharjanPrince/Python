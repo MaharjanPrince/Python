{
 "cells": [
  {
   "cell_type": "markdown",
   "metadata": {},
   "source": [
    "# Object oriented in Python\n",
    "* Core Idea = Models real-world entites as objects with data and behavior\n",
    "* Class and object"
   ]
  },
  {
   "cell_type": "markdown",
   "metadata": {},
   "source": [
    "## init\n",
    "All classes have function called init(), which always executes when the class is being initiated."
   ]
  },
  {
   "cell_type": "code",
   "execution_count": 2,
   "metadata": {},
   "outputs": [
    {
     "name": "stdout",
     "output_type": "stream",
     "text": [
      "Random 69\n"
     ]
    }
   ],
   "source": [
    "#Basic Class example\n",
    "class Person:\n",
    "    def __init__(self, name, age):\n",
    "        self.name = name\n",
    "        self.age = age\n",
    "\n",
    "p1 = Person(\"Random\", 69)\n",
    "\n",
    "print(p1.name, p1.age)"
   ]
  },
  {
   "cell_type": "markdown",
   "metadata": {},
   "source": [
    "## str\n",
    "The str() function controls what should be returned when class object is representing a string"
   ]
  },
  {
   "cell_type": "code",
   "execution_count": 6,
   "metadata": {},
   "outputs": [
    {
     "name": "stdout",
     "output_type": "stream",
     "text": [
      "I am John and I am 36 year old\n"
     ]
    }
   ],
   "source": [
    "class Person:\n",
    "  def __init__(self, name, age):\n",
    "    self.name = name\n",
    "    self.age = age\n",
    "\n",
    "  def __str__(self):\n",
    "    return f\"I am {self.name} and I am {self.age} year old\"\n",
    "\n",
    "p1 = Person(\"John\", 36)\n",
    "\n",
    "print(p1)"
   ]
  },
  {
   "cell_type": "code",
   "execution_count": 9,
   "metadata": {},
   "outputs": [
    {
     "name": "stdout",
     "output_type": "stream",
     "text": [
      "Employee 1 is Random who is 27 working as a Senior for 200000.\n"
     ]
    }
   ],
   "source": [
    "class Employee:\n",
    "    def __init__(self,id, name, age, salery, postion):\n",
    "        self.id = id\n",
    "        self.name = name\n",
    "        self.age = age\n",
    "        self.salery= salery\n",
    "        self.position = postion\n",
    "    def __str__(self):\n",
    "        return f\"Employee {self.id} is {self.name} who is {self.age} working as a {self.position} for {self.salery}.\"\n",
    "    \n",
    "employe1 = Employee(1, \"Random\", 27, 200000, \"Senior\")\n",
    "print(employe1)\n"
   ]
  },
  {
   "cell_type": "markdown",
   "metadata": {},
   "source": [
    "## Object Methods"
   ]
  },
  {
   "cell_type": "code",
   "execution_count": 25,
   "metadata": {},
   "outputs": [],
   "source": [
    "class Person:\n",
    "  def __init__(self, name, age):\n",
    "    self.name = name\n",
    "    self.age = age\n",
    "\n",
    "  def __str__(self):\n",
    "    return f\"Name : {self.name} \\nAge: {self.age}\"\n",
    "  \n",
    "  def printName(self):\n",
    "    print(f\"Hello my name is {self.name}\")\n",
    "\n",
    "  def printInfo(self):\n",
    "    print(f\"Name: {self.name} \\nAge: {self.age}\")\n",
    "\n",
    "  def __del__(self):\n",
    "    print(f'Object {self.name} is deleted.')"
   ]
  },
  {
   "cell_type": "code",
   "execution_count": 24,
   "metadata": {},
   "outputs": [
    {
     "name": "stdout",
     "output_type": "stream",
     "text": [
      "Name : John \n",
      "Age: 36\n",
      " \"Printed using _str_ function\" \n",
      "Hello my name is John\n",
      " \"printed using printName function\" \n",
      "Name: John, \n",
      " Age: 36\n"
     ]
    }
   ],
   "source": [
    "p1 = Person(\"John\", 36)\n",
    "\"\"\" \"Printed using _str_ function\" \"\"\"\n",
    "print(p1)\n",
    "print(__doc__)\n",
    "\n",
    "\"\"\" \"printed using printName function\" \"\"\"\n",
    "p1.printName()\n",
    "print(__doc__)\n",
    "\n",
    "p1.printInfo() #this type isnt used much"
   ]
  },
  {
   "cell_type": "code",
   "execution_count": 22,
   "metadata": {},
   "outputs": [
    {
     "ename": "NameError",
     "evalue": "name 'p1' is not defined",
     "output_type": "error",
     "traceback": [
      "\u001b[31m---------------------------------------------------------------------------\u001b[39m",
      "\u001b[31mNameError\u001b[39m                                 Traceback (most recent call last)",
      "\u001b[36mCell\u001b[39m\u001b[36m \u001b[39m\u001b[32mIn[22]\u001b[39m\u001b[32m, line 1\u001b[39m\n\u001b[32m----> \u001b[39m\u001b[32m1\u001b[39m \u001b[38;5;28;01mdel\u001b[39;00m \u001b[43mp1\u001b[49m\n\u001b[32m      2\u001b[39m \u001b[38;5;28mprint\u001b[39m(p1)\n\u001b[32m      3\u001b[39m \u001b[33;03m\"\"\" Since p1 is deleted it doesnt exits\"\"\"\u001b[39;00m\n",
      "\u001b[31mNameError\u001b[39m: name 'p1' is not defined"
     ]
    }
   ],
   "source": [
    "del p1\n",
    "print(p1)\n",
    "\"\"\" Since p1 is deleted it doesnt exits\"\"\""
   ]
  },
  {
   "cell_type": "markdown",
   "metadata": {},
   "source": [
    "## Object Method with Params"
   ]
  },
  {
   "cell_type": "code",
   "execution_count": 27,
   "metadata": {},
   "outputs": [],
   "source": [
    "class Employee:\n",
    "    def __init__(self, name, salary):\n",
    "        self.name = name \n",
    "        self.salary = salary\n",
    "\n",
    "    def increaseSalary(self, increment_percent):\n",
    "        self.salary = self.salary + increment_percent / 100 * self.salary\n",
    "        print(f'Salary of {self.name} has been increase by {increment_percent} % and total salary = {self.salary}')\n",
    "    \n",
    "    def __str__(self):\n",
    "        return f'Employee : {self.name} \\nSalary : {self.salary}'"
   ]
  },
  {
   "cell_type": "code",
   "execution_count": 28,
   "metadata": {},
   "outputs": [
    {
     "name": "stdout",
     "output_type": "stream",
     "text": [
      "Employee : John Doe \n",
      "Salary : 50000\n"
     ]
    }
   ],
   "source": [
    "employee_1 = Employee(name = 'John Doe', salary = 50_000)\n",
    "print(employee_1)"
   ]
  },
  {
   "cell_type": "code",
   "execution_count": 29,
   "metadata": {},
   "outputs": [
    {
     "name": "stdout",
     "output_type": "stream",
     "text": [
      "Salary of John Doe has been increase by 10 % and total salary = 55000.0\n",
      "55000.0\n"
     ]
    }
   ],
   "source": [
    "employee_1.increaseSalary(increment_percent=10)\n",
    "print(employee_1.salary)"
   ]
  },
  {
   "cell_type": "code",
   "execution_count": 30,
   "metadata": {},
   "outputs": [
    {
     "name": "stdout",
     "output_type": "stream",
     "text": [
      "Employee : John Doe \n",
      "Salary : 55000.0\n"
     ]
    }
   ],
   "source": [
    "print(employee_1)"
   ]
  },
  {
   "cell_type": "markdown",
   "metadata": {},
   "source": [
    "# Exercise\n",
    "1. Create a class called BankAccount with\n",
    "- properties : account_number, account_name, account_balance\n",
    "- methods : addBalance, subtractBalance, viewBalance\n",
    "2. The methods should print statements as shown below:\n",
    "\n",
    "- addBalance -> Dear {account_name}, your {account_number} has been deposited by NPR. {x_amount} and total balance = {account_balance}\n",
    "- subtractBalance -> Dear {account_name}, your {account_number} has been withdrawn by NPR. {x_amount} and total balance = {account_balance}\n",
    "- viewBalance -> Dear {account_name}, your {account_number} has total balance NPR. {account_balance}"
   ]
  },
  {
   "cell_type": "code",
   "execution_count": 107,
   "metadata": {},
   "outputs": [],
   "source": [
    "class BankAccount:\n",
    "    def __init__(self, acc_num, acc_name, acc_blnc):\n",
    "        self.acc_num = acc_num\n",
    "        self.acc_name = acc_name\n",
    "        self.acc_blnc = acc_blnc\n",
    "\n",
    "    def addBalance(self, deposited):\n",
    "        self.acc_blnc += deposited\n",
    "        return f\"Dear {self.acc_num}, your account named {self.acc_name} has been deposited by NPR. {deposited} and total balance = {self.acc_blnc}\"\n",
    "    \n",
    "\n",
    "    def subtractBalance(self, withdrawnamnt):\n",
    "        if(self.acc_blnc > withdrawnamnt):\n",
    "            self.acc_blnc -= withdrawnamnt\n",
    "            return f\"Dear {self.acc_num}, your {self.acc_name} has been withdrawned by NPR. {withdrawnamnt} and new total balance = {self.acc_blnc}\"\n",
    "        else:\n",
    "            return f\"Cannot be withdrawn Insufficient Funds. {self.acc_num} has {self.acc_blnc}\"\n",
    "    \n",
    "    def viewBalance(self):\n",
    "        return f\"Dear {self.acc_name}, Your account number {self.acc_num} has total balance of = {self.acc_blnc}\"\n",
    "    \n",
    "    def transferBalance(self, receiver_account, amount):\n",
    "        if self.balance < amount:\n",
    "            print('Insufficient balance')\n",
    "        else:\n",
    "            self.acc_blnc -= amount\n",
    "            receiver_account.acc.blnc = receiver_account.acc_blnc + amount \n",
    "            print( f\"The account number {receiver_account.acc_name} is Credited by {amount}, New Blance is {receiver_account.acc_blnc}\")\n",
    "            \n",
    "    \n",
    "\n",
    "\n",
    "\n"
   ]
  },
  {
   "cell_type": "code",
   "execution_count": null,
   "metadata": {},
   "outputs": [],
   "source": []
  },
  {
   "cell_type": "code",
   "execution_count": 80,
   "metadata": {},
   "outputs": [],
   "source": [
    "\n",
    "acc1 = BankAccount(acc_num=1, acc_name=\"Random\", acc_blnc=1200)"
   ]
  },
  {
   "cell_type": "code",
   "execution_count": 81,
   "metadata": {},
   "outputs": [
    {
     "name": "stdout",
     "output_type": "stream",
     "text": [
      "Dear 1, your Random has been deposited by NPR. 5000 and total balance = 6200\n",
      "Ammount to Withdraw:  200\n",
      "Dear 1, your Random has been withdrawned by NPR. 200 and new total balance = 6000\n"
     ]
    },
    {
     "data": {
      "text/plain": [
       "'Dear Random, Your account number 1 has total balance of = 6000'"
      ]
     },
     "execution_count": 81,
     "metadata": {},
     "output_type": "execute_result"
    }
   ],
   "source": [
    "\n",
    "acc_deposited = int(input(\"Deposit amount of: \"))\n",
    "print(acc1.addBalance(acc_deposited))\n",
    "\n",
    "acc_withdrawn = int(input(\"Enter Amount to Withdraw: \"))\n",
    "print(\"Ammount to Withdraw: \", acc_withdrawn)\n",
    "print(acc1.subtractBalance(acc_withdrawn))\n",
    "\n",
    "acc1.viewBalance()"
   ]
  },
  {
   "cell_type": "code",
   "execution_count": 99,
   "metadata": {},
   "outputs": [],
   "source": [
    "acc2 = BankAccount(acc_num=2, acc_name=\"John Wick\", acc_blnc = 4000)"
   ]
  },
  {
   "cell_type": "code",
   "execution_count": 108,
   "metadata": {},
   "outputs": [
    {
     "ename": "AttributeError",
     "evalue": "'BankAccount' object has no attribute 'transferBalance'",
     "output_type": "error",
     "traceback": [
      "\u001b[31m---------------------------------------------------------------------------\u001b[39m",
      "\u001b[31mAttributeError\u001b[39m                            Traceback (most recent call last)",
      "\u001b[36mCell\u001b[39m\u001b[36m \u001b[39m\u001b[32mIn[108]\u001b[39m\u001b[32m, line 1\u001b[39m\n\u001b[32m----> \u001b[39m\u001b[32m1\u001b[39m \u001b[43macc1\u001b[49m\u001b[43m.\u001b[49m\u001b[43mtransferBalance\u001b[49m(acc2, \u001b[32m500\u001b[39m)\n",
      "\u001b[31mAttributeError\u001b[39m: 'BankAccount' object has no attribute 'transferBalance'"
     ]
    }
   ],
   "source": [
    "acc1.transferBalance(acc2, 500)"
   ]
  },
  {
   "cell_type": "code",
   "execution_count": 100,
   "metadata": {},
   "outputs": [
    {
     "name": "stdout",
     "output_type": "stream",
     "text": [
      "Blance in Account 1 =  11999\n",
      "Balance in Account 2 =  4000\n"
     ]
    }
   ],
   "source": [
    "\n",
    "print(\"Blance in Account 1 = \",acc1.acc_blnc)\n",
    "print(\"Balance in Account 2 = \", acc2.acc_blnc)\n"
   ]
  },
  {
   "cell_type": "code",
   "execution_count": 103,
   "metadata": {},
   "outputs": [
    {
     "name": "stdout",
     "output_type": "stream",
     "text": [
      "Insufficient funds in 2 to proceed transaction\n",
      "Currently New Balance of both accounts: \n",
      "Blance in Account 1 =  9000\n",
      "Balance in Account 2 =  6999\n"
     ]
    }
   ],
   "source": [
    "acc = int(input(\"Choose a acoount to transfer as in 1 and 2: \"))\n",
    "amntTrans = int(input(\"Enter Transfer amount: \"))\n",
    "\n",
    "def transferBalance(transferamnt):\n",
    "    #choosing account to transfer\n",
    "    if acc == 1:\n",
    "        sender = acc1\n",
    "        reciever = acc2\n",
    "    else:\n",
    "        sender = acc2\n",
    "        reciever = acc1\n",
    "\n",
    "    if(sender.acc_blnc >= transferamnt):\n",
    "        reciever.acc_blnc += transferamnt\n",
    "        sender.acc_blnc -= transferamnt\n",
    "        print( f\"The account number {reciever.acc_name} is Credited by {transferamnt}, New Blance is {reciever.acc_blnc}\")\n",
    "    else:\n",
    "        print(f\"Insufficient funds in {sender.acc_num} to proceed transaction\")\n",
    "\n",
    "transferBalance(amntTrans)\n",
    "\n",
    "\n",
    "print(\"Currently New Balance of both accounts: \")\n",
    "print(\"Blance in Account 1 = \",acc1.acc_blnc)\n",
    "print(\"Balance in Account 2 = \", acc2.acc_blnc)"
   ]
  },
  {
   "cell_type": "code",
   "execution_count": null,
   "metadata": {},
   "outputs": [],
   "source": []
  }
 ],
 "metadata": {
  "kernelspec": {
   "display_name": "venv",
   "language": "python",
   "name": "python3"
  },
  "language_info": {
   "codemirror_mode": {
    "name": "ipython",
    "version": 3
   },
   "file_extension": ".py",
   "mimetype": "text/x-python",
   "name": "python",
   "nbconvert_exporter": "python",
   "pygments_lexer": "ipython3",
   "version": "3.12.3"
  }
 },
 "nbformat": 4,
 "nbformat_minor": 2
}
