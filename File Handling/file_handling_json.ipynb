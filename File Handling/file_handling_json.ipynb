{
 "cells": [
  {
   "cell_type": "markdown",
   "metadata": {},
   "source": [
    "# JSON\n",
    "### JavaSceipt Object Notation\n",
    "Its a lighteight data format used for storing an exchanging data"
   ]
  },
  {
   "cell_type": "code",
   "execution_count": 2,
   "metadata": {},
   "outputs": [],
   "source": [
    "import json"
   ]
  },
  {
   "cell_type": "markdown",
   "metadata": {},
   "source": [
    "### Writing Data to a JSON file"
   ]
  },
  {
   "cell_type": "code",
   "execution_count": 2,
   "metadata": {},
   "outputs": [],
   "source": [
    "data = {\n",
    "    \"name\" : \"John\",\n",
    "    \"age\" : 21,\n",
    "    \"hobbies\": [\"Sports\", \"Anime\", \"Chess\"]\n",
    "}\n",
    "\n",
    "with open(\"data.json\", \"w\") as file:\n",
    "    json.dump(data, file, indent = 4)"
   ]
  },
  {
   "cell_type": "markdown",
   "metadata": {},
   "source": [
    "### Reading Data of a JSON file"
   ]
  },
  {
   "cell_type": "code",
   "execution_count": 6,
   "metadata": {},
   "outputs": [
    {
     "name": "stdout",
     "output_type": "stream",
     "text": [
      "{'name': 'John', 'age': 16, 'hobbies': ['Sports', 'Anime', 'Chess'], 'city': 'Kathmandu'}\n",
      "<class 'dict'>\n"
     ]
    }
   ],
   "source": [
    "with open(\"data.json\", \"r\") as file:\n",
    "    loaded_data = json.load(file)\n",
    "\n",
    "print(loaded_data)\n",
    "print(type(loaded_data))"
   ]
  },
  {
   "cell_type": "markdown",
   "metadata": {},
   "source": [
    "### Modifying JSON Data and Saving"
   ]
  },
  {
   "cell_type": "code",
   "execution_count": 5,
   "metadata": {},
   "outputs": [],
   "source": [
    "loaded_data[\"age\"] = 16\n",
    "loaded_data[\"city\"] = \"Kathmandu\"\n",
    "\n",
    "with open(\"data.json\", \"w\") as file:\n",
    "    json.dump(loaded_data, file, indent=4)"
   ]
  },
  {
   "cell_type": "markdown",
   "metadata": {},
   "source": [
    "### JSON String ➝ Python Object"
   ]
  },
  {
   "cell_type": "code",
   "execution_count": 7,
   "metadata": {},
   "outputs": [
    {
     "name": "stdout",
     "output_type": "stream",
     "text": [
      "{'language': 'Python', 'version': 3.1}\n"
     ]
    }
   ],
   "source": [
    "json_string = '{\"language\": \"Python\", \"version\": 3.10}'\n",
    "python_data = json.loads(json_string)\n",
    "\n",
    "print(python_data)"
   ]
  },
  {
   "cell_type": "markdown",
   "metadata": {},
   "source": [
    "### Python Object ➝ JSON String"
   ]
  },
  {
   "cell_type": "code",
   "execution_count": 3,
   "metadata": {},
   "outputs": [
    {
     "name": "stdout",
     "output_type": "stream",
     "text": [
      "{\n",
      "  \"framework\": \"FastAPI\",\n",
      "  \"type\": \"web\"\n",
      "}\n"
     ]
    }
   ],
   "source": [
    "data = {\"framework\": \"FastAPI\", \"type\": \"web\"}\n",
    "json_str = json.dumps(data, indent=2)\n",
    "\n",
    "print(json_str)"
   ]
  },
  {
   "cell_type": "markdown",
   "metadata": {},
   "source": [
    "#### Exercises\n",
    "Try the following:\n",
    "\n",
    "1. Create a Python dictionary with your own data (name, age, favorite books).\n",
    "2. Save it to a file called mydata.json.\n",
    "3. Read the file back and print the data.\n",
    "4. Add a new key hobby and update the file."
   ]
  },
  {
   "cell_type": "code",
   "execution_count": 5,
   "metadata": {},
   "outputs": [],
   "source": [
    "info ={\n",
    "    'name': \"Random\",\n",
    "    'age': 19,\n",
    "    'fav_books': [\"The Stranger\", \"Metamorphis\", \"Myth of Sisyphus\", \"Meditation\"]\n",
    "}\n",
    "with open(\"mydata.json\", 'w') as file:\n",
    "    json.dump(info, file, indent=2)"
   ]
  },
  {
   "cell_type": "code",
   "execution_count": 6,
   "metadata": {},
   "outputs": [
    {
     "name": "stdout",
     "output_type": "stream",
     "text": [
      "{'name': 'Random', 'age': 19, 'fav_books': ['The Stranger', 'Metamorphis', 'Myth of Sisyphus', 'Meditation']}\n"
     ]
    }
   ],
   "source": [
    "with open(\"mydata.json\", \"r\") as file:\n",
    "    r_data = json.load(file)\n",
    "\n",
    "print(r_data)"
   ]
  },
  {
   "cell_type": "code",
   "execution_count": 8,
   "metadata": {},
   "outputs": [
    {
     "name": "stdout",
     "output_type": "stream",
     "text": [
      "{'name': 'Random', 'age': 19, 'fav_books': ['The Stranger', 'Metamorphis', 'Myth of Sisyphus', 'Meditation'], 'hobby': 'writing'}\n"
     ]
    }
   ],
   "source": [
    "r_data['hobby'] = \"writing\"\n",
    "\n",
    "with open(\"mydata.json\", \"w\") as file:\n",
    "    json.dump(r_data, file, indent=2)\n",
    "\n",
    "print(r_data)"
   ]
  },
  {
   "cell_type": "code",
   "execution_count": null,
   "metadata": {},
   "outputs": [],
   "source": []
  }
 ],
 "metadata": {
  "kernelspec": {
   "display_name": "venv",
   "language": "python",
   "name": "python3"
  },
  "language_info": {
   "codemirror_mode": {
    "name": "ipython",
    "version": 3
   },
   "file_extension": ".py",
   "mimetype": "text/x-python",
   "name": "python",
   "nbconvert_exporter": "python",
   "pygments_lexer": "ipython3",
   "version": "3.12.3"
  }
 },
 "nbformat": 4,
 "nbformat_minor": 2
}
