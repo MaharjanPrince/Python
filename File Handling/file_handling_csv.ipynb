{
 "cells": [
  {
   "cell_type": "markdown",
   "metadata": {},
   "source": [
    "# CSV file\n",
    "Comma seperated Value"
   ]
  },
  {
   "cell_type": "code",
   "execution_count": 1,
   "metadata": {},
   "outputs": [],
   "source": [
    "import csv"
   ]
  },
  {
   "cell_type": "markdown",
   "metadata": {},
   "source": [
    "## Writing Data to CSV File\n"
   ]
  },
  {
   "cell_type": "code",
   "execution_count": 2,
   "metadata": {},
   "outputs": [],
   "source": [
    "data = [\n",
    "    [\"Name\", \"Age\", \"City\"],\n",
    "    [\"Nirajan\", 25, \"Kathmandu\"],\n",
    "    [\"Aayush\", 24, \"Pokhara\"],\n",
    "    [\"Sita\", 23, \"Biratnagar\"]\n",
    "]\n",
    "\n",
    "with open(\"people.csv\", \"w\", newline='') as file:\n",
    "    writer = csv.writer(file)\n",
    "    writer.writerows(data)"
   ]
  },
  {
   "cell_type": "markdown",
   "metadata": {},
   "source": [
    "## Reading Data from CSV File"
   ]
  },
  {
   "cell_type": "code",
   "execution_count": 3,
   "metadata": {},
   "outputs": [
    {
     "name": "stdout",
     "output_type": "stream",
     "text": [
      "['Name', 'Age', 'City']\n",
      "['Nirajan', '25', 'Kathmandu']\n",
      "['Aayush', '24', 'Pokhara']\n",
      "['Sita', '23', 'Biratnagar']\n"
     ]
    }
   ],
   "source": [
    "with open(\"people.csv\", \"r\") as file:\n",
    "    reader = csv.reader(file)\n",
    "    for row in reader:\n",
    "        print(row)"
   ]
  },
  {
   "cell_type": "code",
   "execution_count": 4,
   "metadata": {},
   "outputs": [
    {
     "name": "stdout",
     "output_type": "stream",
     "text": [
      "Header: ['Name', 'Age', 'City']\n",
      "['Nirajan', '25', 'Kathmandu']\n",
      "['Aayush', '24', 'Pokhara']\n",
      "['Sita', '23', 'Biratnagar']\n"
     ]
    }
   ],
   "source": [
    "with open(\"people.csv\", \"r\") as file:\n",
    "    reader = csv.reader(file)\n",
    "    header = next(reader)\n",
    "    print(\"Header:\", header)\n",
    "    \n",
    "    for row in reader:\n",
    "        print(row)"
   ]
  },
  {
   "cell_type": "markdown",
   "metadata": {},
   "source": [
    "### Writing CSV Using DictWriter"
   ]
  },
  {
   "cell_type": "code",
   "execution_count": 5,
   "metadata": {},
   "outputs": [],
   "source": [
    "people = [\n",
    "    {\"Name\": \"Nirajan\", \"Age\": 25, \"City\": \"Kathmandu\"},\n",
    "    {\"Name\": \"Aayush\", \"Age\": 24, \"City\": \"Pokhara\"},\n",
    "    {\"Name\": \"Sita\", \"Age\": 23, \"City\": \"Biratnagar\"}\n",
    "]\n",
    "\n",
    "with open(\"people_dictionary.csv\", \"w\", newline='') as file:\n",
    "    fieldnames = [\"Name\", \"Age\", \"City\"]\n",
    "    writer = csv.DictWriter(file, fieldnames=fieldnames)\n",
    "    writer.writeheader()\n",
    "    writer.writerows(people)"
   ]
  },
  {
   "cell_type": "markdown",
   "metadata": {},
   "source": [
    "### Reading CSV Using DictReader"
   ]
  },
  {
   "cell_type": "code",
   "execution_count": 6,
   "metadata": {},
   "outputs": [
    {
     "name": "stdout",
     "output_type": "stream",
     "text": [
      "{'Name': 'Nirajan', 'Age': '25', 'City': 'Kathmandu'}\n",
      "{'Name': 'Aayush', 'Age': '24', 'City': 'Pokhara'}\n",
      "{'Name': 'Sita', 'Age': '23', 'City': 'Biratnagar'}\n"
     ]
    }
   ],
   "source": [
    "with open(\"people_dictionary.csv\", \"r\") as file:\n",
    "    reader = csv.DictReader(file)\n",
    "    for row in reader:\n",
    "        print(row)"
   ]
  },
  {
   "cell_type": "code",
   "execution_count": null,
   "metadata": {},
   "outputs": [],
   "source": []
  }
 ],
 "metadata": {
  "kernelspec": {
   "display_name": "venv",
   "language": "python",
   "name": "python3"
  },
  "language_info": {
   "codemirror_mode": {
    "name": "ipython",
    "version": 3
   },
   "file_extension": ".py",
   "mimetype": "text/x-python",
   "name": "python",
   "nbconvert_exporter": "python",
   "pygments_lexer": "ipython3",
   "version": "3.12.3"
  }
 },
 "nbformat": 4,
 "nbformat_minor": 2
}
