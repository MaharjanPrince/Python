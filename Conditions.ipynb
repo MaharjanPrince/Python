{
 "cells": [
  {
   "cell_type": "markdown",
   "metadata": {},
   "source": [
    "# Conditionals and Loops\n",
    "## if, elif and else and Indentation"
   ]
  },
  {
   "cell_type": "code",
   "execution_count": 2,
   "metadata": {},
   "outputs": [
    {
     "name": "stdout",
     "output_type": "stream",
     "text": [
      "Greater than 10\n"
     ]
    }
   ],
   "source": [
    "# 1. if, elif, else and Indentation\n",
    "x = 15\n",
    "\n",
    "if x < 10:\n",
    "    print(\"Less than 10\")\n",
    "elif x == 10:\n",
    "    print(\"Equal to 10\")\n",
    "else:\n",
    "    print(\"Greater than 10\")"
   ]
  },
  {
   "cell_type": "markdown",
   "metadata": {},
   "source": [
    "### Conditional Statement using local operator(and or not)"
   ]
  },
  {
   "cell_type": "code",
   "execution_count": 3,
   "metadata": {},
   "outputs": [
    {
     "name": "stdout",
     "output_type": "stream",
     "text": [
      "Both conditions are True\n",
      "At least one condition is True\n",
      "a is not greater than 10\n"
     ]
    }
   ],
   "source": [
    "# 2. Logical Operators: and, or, not\n",
    "a = 5\n",
    "b = 10\n",
    "\n",
    "if a < 10 and b > 5:\n",
    "    print(\"Both conditions are True\")\n",
    "\n",
    "if a > 10 or b > 5:\n",
    "    print(\"At least one condition is True\")\n",
    "\n",
    "if not a > 10:\n",
    "    print(\"a is not greater than 10\")"
   ]
  },
  {
   "cell_type": "markdown",
   "metadata": {},
   "source": [
    "### Identity(is) vs Equality(==)"
   ]
  },
  {
   "cell_type": "code",
   "execution_count": 6,
   "metadata": {},
   "outputs": [
    {
     "name": "stdout",
     "output_type": "stream",
     "text": [
      "True\n",
      "False\n",
      "True\n"
     ]
    }
   ],
   "source": [
    "# 3. is vs == \n",
    "x = [1,2,3]\n",
    "y = [1,2,3]\n",
    "z = x\n",
    "\n",
    "print(x == y) #True: Same content\n",
    "print(x is y) #False: Different Objects (different memory location)\n",
    "print(z is x) #true Same Object"
   ]
  },
  {
   "cell_type": "markdown",
   "metadata": {},
   "source": [
    "## Ternary Operator\n",
    "* Allows us to persom conditional checks and assign values or perform operations on a single line"
   ]
  },
  {
   "cell_type": "code",
   "execution_count": 7,
   "metadata": {},
   "outputs": [
    {
     "name": "stdout",
     "output_type": "stream",
     "text": [
      "Odd\n"
     ]
    }
   ],
   "source": [
    "n = 5\n",
    "res = \"Even\" if n %2 == 0 else \"Odd\"\n",
    "print(res)"
   ]
  },
  {
   "cell_type": "markdown",
   "metadata": {},
   "source": [
    "# Excersises:"
   ]
  },
  {
   "cell_type": "markdown",
   "metadata": {},
   "source": [
    "* #### Check Even or Odd"
   ]
  },
  {
   "cell_type": "code",
   "execution_count": 10,
   "metadata": {},
   "outputs": [
    {
     "name": "stdout",
     "output_type": "stream",
     "text": [
      "Odd 5\n"
     ]
    }
   ],
   "source": [
    "n = int(input(\"Enter a number:\"))\n",
    "if(n % 2 == 0):\n",
    "    print(\"Even\", n)\n",
    "else:\n",
    "    print(\"Odd\", n)"
   ]
  },
  {
   "cell_type": "markdown",
   "metadata": {},
   "source": [
    "* #### Check Age Category"
   ]
  },
  {
   "cell_type": "code",
   "execution_count": 12,
   "metadata": {},
   "outputs": [
    {
     "name": "stdout",
     "output_type": "stream",
     "text": [
      "Teenager\n"
     ]
    }
   ],
   "source": [
    "age = int(input(\"Enter your age: \"))\n",
    "if (age < 13):\n",
    "    print(\"Child\")\n",
    "elif(13 <= age < 20):\n",
    "    print(\"Teenager\")\n",
    "else:\n",
    "    print(\"Adult\")"
   ]
  },
  {
   "cell_type": "markdown",
   "metadata": {},
   "source": [
    "* #### Use ternary opertaor to assign a grade based on a student's Score."
   ]
  },
  {
   "cell_type": "code",
   "execution_count": 13,
   "metadata": {},
   "outputs": [
    {
     "name": "stdout",
     "output_type": "stream",
     "text": [
      "Pass\n"
     ]
    }
   ],
   "source": [
    "score = int(input(\"Enter your score(0-100): \"))\n",
    "grade = \"Pass\" if score > 40 else \"Fail\"\n",
    "print(grade)"
   ]
  },
  {
   "cell_type": "markdown",
   "metadata": {},
   "source": [
    "# Loops"
   ]
  },
  {
   "cell_type": "code",
   "execution_count": 21,
   "metadata": {},
   "outputs": [
    {
     "name": "stdout",
     "output_type": "stream",
     "text": [
      "apple\n",
      "banana\n",
      "cherry\n"
     ]
    }
   ],
   "source": [
    "fruts = [\"apple\", \"banana\", \"cherry\"]\n",
    "for fruit in fruts:\n",
    "    print(fruit)"
   ]
  },
  {
   "cell_type": "code",
   "execution_count": 22,
   "metadata": {},
   "outputs": [
    {
     "name": "stdout",
     "output_type": "stream",
     "text": [
      "Num:  0\n",
      "Num:  1\n",
      "Num:  2\n"
     ]
    }
   ],
   "source": [
    "#while Loop\n",
    "cnt = 0\n",
    "while cnt<3:\n",
    "    print(\"Num: \", cnt)\n",
    "    cnt += 1\n"
   ]
  },
  {
   "cell_type": "code",
   "execution_count": 24,
   "metadata": {},
   "outputs": [
    {
     "name": "stdout",
     "output_type": "stream",
     "text": [
      "0\n",
      "1\n",
      "2\n",
      "3\n",
      "4\n",
      "5\n",
      "6\n",
      "7\n",
      "8\n",
      "9\n"
     ]
    }
   ],
   "source": [
    "# for loop with range\n",
    "for i in range(10):\n",
    "    print(i)"
   ]
  },
  {
   "cell_type": "code",
   "execution_count": 37,
   "metadata": {},
   "outputs": [
    {
     "name": "stdout",
     "output_type": "stream",
     "text": [
      "10\n",
      "9\n",
      "8\n",
      "7\n",
      "6\n",
      "5\n",
      "4\n",
      "3\n",
      "2\n",
      "1\n"
     ]
    }
   ],
   "source": [
    "#range(Start, stop, step)\n",
    "for i in range(10, 0, -1):\n",
    "    print(i)"
   ]
  },
  {
   "cell_type": "code",
   "execution_count": 53,
   "metadata": {},
   "outputs": [
    {
     "name": "stdout",
     "output_type": "stream",
     "text": [
      "[1, 2, 3, 4, 5, 6, 7, 8, 9, 10, 11, 12, 13, 14, 15, 16, 17, 18, 19, 20, 21, 22, 23, 24, 25, 26, 27, 28, 29, 30, 31, 32, 33, 34, 35, 36, 37, 38, 39, 40, 41, 42, 43, 44, 45, 46, 47, 48, 49, 50]\n",
      "[1, 2, 3, 4, 5, 6, 7, 8, 9, 10, 11, 12, 13, 14, 15, 16, 17, 18, 19, 20, 21, 22, 23, 24, 25, 26, 27, 28, 29, 30, 31, 32, 33, 34, 35, 36, 37, 38, 39, 40, 41, 42, 43, 44, 45, 46, 47, 48, 49, 50]\n"
     ]
    }
   ],
   "source": [
    "numlist = []\n",
    "for i in range(1, 51):\n",
    "    numlist.append(i)\n",
    "\n",
    "print(numlist)\n",
    "\n",
    "#OR\n",
    "print(list(range(1,51)))"
   ]
  },
  {
   "cell_type": "code",
   "execution_count": 59,
   "metadata": {},
   "outputs": [
    {
     "name": "stdout",
     "output_type": "stream",
     "text": [
      "Break at 3:  0\n",
      "Break at 3:  1\n",
      "Break at 3:  2\n",
      "continue at 3:  0\n",
      "continue at 3:  1\n",
      "continue at 3:  2\n",
      "continue at 3:  4\n"
     ]
    }
   ],
   "source": [
    "#Break Exxample\n",
    "for i in range(5):\n",
    "    if i == 3:\n",
    "        break\n",
    "    print(\"Break at 3: \", i)\n",
    "    # print(f\"Break at 3:  {i}\") f string\n",
    "\n",
    "# Continue\n",
    "for i in range(5):\n",
    "    if i == 3:\n",
    "        continue\n",
    "    print(\"continue at 3: \", i)"
   ]
  },
  {
   "cell_type": "markdown",
   "metadata": {},
   "source": [
    "# Enumerate\n",
    "enumerate(iterable, start) \n",
    "* default value for start = 0"
   ]
  },
  {
   "cell_type": "code",
   "execution_count": 61,
   "metadata": {},
   "outputs": [
    {
     "name": "stdout",
     "output_type": "stream",
     "text": [
      " 0 has color red\n",
      " 1 has color green\n",
      " 2 has color blue\n"
     ]
    }
   ],
   "source": [
    "# enumerate()\n",
    "colors = [\"red\", \"green\", \"blue\"]\n",
    "for index, color in enumerate(colors):\n",
    "    print(f\" {index} has color {color}\")"
   ]
  },
  {
   "cell_type": "code",
   "execution_count": 62,
   "metadata": {},
   "outputs": [
    {
     "name": "stdout",
     "output_type": "stream",
     "text": [
      "Index 2 has color red\n",
      "Index 3 has color green\n",
      "Index 4 has color blue\n"
     ]
    }
   ],
   "source": [
    "# enumerate() with start value\n",
    "colors = [\"red\", \"green\", \"blue\"]\n",
    "for index, color in enumerate(colors, start=2):\n",
    "    print(f\"Index {index} has color {color}\")"
   ]
  },
  {
   "cell_type": "markdown",
   "metadata": {},
   "source": [
    "## Excersie"
   ]
  },
  {
   "cell_type": "code",
   "execution_count": 67,
   "metadata": {},
   "outputs": [
    {
     "name": "stdout",
     "output_type": "stream",
     "text": [
      "9 X 1 =  9\n",
      "9 X 2 =  18\n",
      "9 X 3 =  27\n",
      "9 X 4 =  36\n",
      "9 X 5 =  45\n",
      "9 X 6 =  54\n",
      "9 X 7 =  63\n",
      "9 X 8 =  72\n",
      "9 X 9 =  81\n",
      "9 X 10 =  90\n"
     ]
    }
   ],
   "source": [
    "#Print multiplication table(for loop)\n",
    "index = int(input(\"Choose Multiplication table of: \"))\n",
    "for i in range(1, 11):\n",
    "    print(f\"{index} X {i} =  {i * index}\")"
   ]
  },
  {
   "cell_type": "code",
   "execution_count": 81,
   "metadata": {},
   "outputs": [
    {
     "name": "stdout",
     "output_type": "stream",
     "text": [
      "15\n",
      "15\n"
     ]
    }
   ],
   "source": [
    "#Sum of First N numbers:\n",
    "ip = int(input(\"Enter a number for sum: \"))\n",
    "sum = 0\n",
    "count = 0\n",
    "while(count < ip):\n",
    "    count += 1\n",
    "    sum = sum + count\n",
    "print(sum)\n",
    "\n",
    "#using for loop\n",
    "sums = 0\n",
    "for i in range(1, ip + 1):\n",
    "    sums = sums + i\n",
    "print(sums)\n"
   ]
  },
  {
   "cell_type": "code",
   "execution_count": 85,
   "metadata": {},
   "outputs": [
    {
     "name": "stdout",
     "output_type": "stream",
     "text": [
      "{'b': 1, 'a': 3, 'n': 2}\n"
     ]
    }
   ],
   "source": [
    "#Write a program that takes a string input from the user and uses a dictionary to count how many times each character appears in the string. Use a loop to iterate over the string.\n",
    "var = input(\"Enter your word: \")\n",
    "list_cnt = {}\n",
    "for char in var:\n",
    "    # print(char)\n",
    "    if char in list_cnt:\n",
    "        list_cnt[char] += 1\n",
    "    else:\n",
    "        list_cnt[char] = 1\n",
    "print(list_cnt)\n",
    "        \n"
   ]
  },
  {
   "cell_type": "code",
   "execution_count": null,
   "metadata": {},
   "outputs": [],
   "source": []
  }
 ],
 "metadata": {
  "kernelspec": {
   "display_name": "venv",
   "language": "python",
   "name": "python3"
  },
  "language_info": {
   "codemirror_mode": {
    "name": "ipython",
    "version": 3
   },
   "file_extension": ".py",
   "mimetype": "text/x-python",
   "name": "python",
   "nbconvert_exporter": "python",
   "pygments_lexer": "ipython3",
   "version": "3.12.3"
  }
 },
 "nbformat": 4,
 "nbformat_minor": 2
}
