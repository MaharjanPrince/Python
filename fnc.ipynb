{
 "cells": [
  {
   "cell_type": "markdown",
   "metadata": {},
   "source": [
    "# Excersie"
   ]
  },
  {
   "cell_type": "code",
   "execution_count": 3,
   "metadata": {},
   "outputs": [
    {
     "name": "stdout",
     "output_type": "stream",
     "text": [
      "20\n"
     ]
    }
   ],
   "source": [
    "#area of rectangle that returns the area of rectangle\n",
    "\n",
    "def area(len, breadth):\n",
    "    areacal = len * breadth\n",
    "    return areacal\n",
    "\n",
    "print(area(4,5))"
   ]
  },
  {
   "cell_type": "code",
   "execution_count": 4,
   "metadata": {},
   "outputs": [
    {
     "name": "stdout",
     "output_type": "stream",
     "text": [
      "True\n"
     ]
    }
   ],
   "source": [
    "# function is even or od\n",
    "\n",
    "def checker(num):\n",
    "    if num % 2 == 0:\n",
    "        return True\n",
    "    else:\n",
    "        return False\n",
    "print(checker(2))"
   ]
  },
  {
   "cell_type": "code",
   "execution_count": 14,
   "metadata": {},
   "outputs": [
    {
     "name": "stdout",
     "output_type": "stream",
     "text": [
      "[4, 16, 125, 343, 64, 729]\n"
     ]
    }
   ],
   "source": [
    "#takes a list of numbers as parameter and return with square of even numbers and cube of odd numbers\n",
    "numList = [2, 4, 5, 7, 8, 9]\n",
    "newList = []\n",
    "\n",
    "def gen(numberList):\n",
    "    for num in numberList:\n",
    "        if num % 2 == 0:\n",
    "            sqnum = num * num\n",
    "            newList.append(sqnum)\n",
    "        else:\n",
    "            cnum = num ** 3\n",
    "            newList.append(cnum)\n",
    "\n",
    "gen(numList)  # Call the function to populate newList\n",
    "print(newList)"
   ]
  },
  {
   "cell_type": "code",
   "execution_count": 6,
   "metadata": {},
   "outputs": [
    {
     "data": {
      "text/plain": [
       "{'alice': 86.33333333333333, 'bob': 80.0}"
      ]
     },
     "execution_count": 6,
     "metadata": {},
     "output_type": "execute_result"
    }
   ],
   "source": [
    "#average of score of student\n",
    "grades={\n",
    "    'alice':{80,89,90},\n",
    "    'bob':{70,90,80}\n",
    "}\n",
    "\n",
    "def averageGrades(grades_dictionary):\n",
    "    output={}\n",
    "    for grade in grades.items():\n",
    "        student_name,student_grade=grade\n",
    "        student_average=sum(student_grade)/len(student_grade)\n",
    "        output[student_name]=student_average\n",
    "    return output\n",
    "averageGrades(grades)"
   ]
  },
  {
   "cell_type": "markdown",
   "metadata": {},
   "source": [
    "# Defualt Parameters\n",
    "* Used when argument is not passed\n",
    "* Keyword arguments allow passing parameters by name.\n",
    "* Docstrings are string literals used to describe functions"
   ]
  },
  {
   "cell_type": "code",
   "execution_count": 12,
   "metadata": {},
   "outputs": [
    {
     "name": "stdout",
     "output_type": "stream",
     "text": [
      "4\n",
      "8\n"
     ]
    }
   ],
   "source": [
    "def power(base, exponent=2):\n",
    "    \"\"\"Returns the base raised to the power of exponent.\"\"\"\n",
    "    return base ** exponent\n",
    "\n",
    "print(power(2))\n",
    "print(power(base=2, exponent=3))\n",
    "\n",
    "# print(power .__doc__)"
   ]
  },
  {
   "cell_type": "markdown",
   "metadata": {},
   "source": [
    "## Markdown"
   ]
  },
  {
   "cell_type": "code",
   "execution_count": 15,
   "metadata": {},
   "outputs": [
    {
     "name": "stdout",
     "output_type": "stream",
     "text": [
      "Welcome!, Alice\n"
     ]
    },
    {
     "data": {
      "text/plain": [
       "<function __main__.greet(name, message='Welcome!')>"
      ]
     },
     "execution_count": 15,
     "metadata": {},
     "output_type": "execute_result"
    }
   ],
   "source": [
    "# Write a function greet(name, message=\"Welcome!\") that prints a greeting. Demonstrate it with default and keyword arguments.\n",
    "\n",
    "def greet(name, message = \"Welcome!\"):\n",
    "    print(f\"{message}, {name}\")\n",
    "    return greet\n",
    "greet(\"Alice\")"
   ]
  },
  {
   "cell_type": "code",
   "execution_count": 18,
   "metadata": {},
   "outputs": [
    {
     "name": "stdout",
     "output_type": "stream",
     "text": [
      "4\n",
      "\n",
      "    Multiplies two numbers.\n",
      "\n",
      "    parameters:\n",
      "    a The first number.\n",
      "    b The second number. default is 2.\n",
      "\n",
      "    Returns:\n",
      "    int or float: The product of a and b.\n",
      "    \n"
     ]
    }
   ],
   "source": [
    "#  Define a function multiply(a, b=2) with a docstring. Call it using positional and keyword arguments.\n",
    "def multiply(a, b=2):\n",
    "    \"\"\"\n",
    "    Multiplies two numbers.\n",
    "    \n",
    "    parameters:\n",
    "    a The first number.\n",
    "    b The second number. default is 2.\n",
    "    \n",
    "    Returns:\n",
    "    int or float: The product of a and b.\n",
    "    \"\"\"\n",
    "    return a * b\n",
    "print(multiply(2))\n",
    "print(multiply .__doc__)"
   ]
  },
  {
   "cell_type": "markdown",
   "metadata": {},
   "source": [
    "## *args and **kwargs"
   ]
  },
  {
   "cell_type": "markdown",
   "metadata": {},
   "source": [
    "*  `*args` allows variable number of positional arguments.\n",
    "* `**kwargs` allows variable number of keyword arguments."
   ]
  },
  {
   "cell_type": "code",
   "execution_count": 26,
   "metadata": {},
   "outputs": [
    {
     "name": "stdout",
     "output_type": "stream",
     "text": [
      "(1, 2, 4, 5)\n",
      "<class 'tuple'>\n"
     ]
    }
   ],
   "source": [
    "#args\n",
    "def tempFunction1(*args):\n",
    "    print(args)\n",
    "    print(type(args))\n",
    "\n",
    "tempFunction1(1, 2, 4, 5)"
   ]
  },
  {
   "cell_type": "code",
   "execution_count": 25,
   "metadata": {},
   "outputs": [
    {
     "name": "stdout",
     "output_type": "stream",
     "text": [
      "{'name': 'Maharjan', 'location': 'Khokana'}\n",
      "Maharjan\n"
     ]
    }
   ],
   "source": [
    "def tempFunction2(**kwargs):\n",
    "    print(kwargs)\n",
    "    print(kwargs['name'])\n",
    "\n",
    "tempFunction2(name = 'Maharjan', location = 'Khokana')       "
   ]
  },
  {
   "cell_type": "markdown",
   "metadata": {},
   "source": [
    "## Excersises"
   ]
  },
  {
   "cell_type": "code",
   "execution_count": 27,
   "metadata": {},
   "outputs": [
    {
     "name": "stdout",
     "output_type": "stream",
     "text": [
      "94\n"
     ]
    }
   ],
   "source": [
    "# Write a function sum_all(*numbers) that returns the sum of all arguments passed to it.\n",
    "def sum_all(*numbers):\n",
    "    print(sum(numbers))\n",
    "sum_all(2,34,3,5,5,45)"
   ]
  },
  {
   "cell_type": "code",
   "execution_count": 38,
   "metadata": {},
   "outputs": [
    {
     "name": "stdout",
     "output_type": "stream",
     "text": [
      "{'name': ['Random1', 'Random2'], 'location': ['un/k', 'un/k']}\n",
      "Random1\n"
     ]
    }
   ],
   "source": [
    "#  Create a function print_student_details(**details) that prints each key-value pair passed as keyword arguments.\n",
    "def print_student_details(**details):\n",
    "    print(details)\n",
    "    print(details['name'][0])\n",
    "\n",
    "print_student_details(name = [\"Random1\", \"Random2\"], location = [\"un/k\", \"un/k\"])"
   ]
  },
  {
   "cell_type": "markdown",
   "metadata": {},
   "source": [
    "# Scope, Local Global and Nonlocal\n",
    "* Local: inside a function\n",
    "* Global: at top level"
   ]
  },
  {
   "cell_type": "code",
   "execution_count": 39,
   "metadata": {},
   "outputs": [
    {
     "name": "stdout",
     "output_type": "stream",
     "text": [
      "4\n",
      "2\n"
     ]
    }
   ],
   "source": [
    "x =  2 #global\n",
    "\n",
    "def func1():\n",
    "    x = 4 #local\n",
    "    print(x) ## --> local variable\n",
    "\n",
    "\n",
    "func1()\n",
    "print(x) # --> global variable"
   ]
  },
  {
   "cell_type": "markdown",
   "metadata": {},
   "source": [
    "### Methods vs. Functions\n",
    "* Functions are defined using def and are independent.\n",
    "* Methods are functions associated with objects (e.g., strings, lists)."
   ]
  },
  {
   "cell_type": "markdown",
   "metadata": {},
   "source": [
    "## Excersises"
   ]
  },
  {
   "cell_type": "code",
   "execution_count": 44,
   "metadata": {},
   "outputs": [
    {
     "name": "stdout",
     "output_type": "stream",
     "text": [
      "['apple', 'cat']\n"
     ]
    }
   ],
   "source": [
    "# Write a function common_elements(list1, list2) that returns a list of elements common to both lists.\n",
    "ln1 = ['apple', 'banana', 'cat']\n",
    "ln2 = ['coco', 'dog', 'cat', 'ele', 'apple']\n",
    "\n",
    "def common_elements(ln1, ln2):\n",
    "    outputln = []\n",
    "    for i in  ln1:\n",
    "        if i in ln2:\n",
    "            outputln.append(i)\n",
    "    return outputln\n",
    "print(common_elements(ln1, ln2))\n",
    "\n"
   ]
  },
  {
   "cell_type": "code",
   "execution_count": 52,
   "metadata": {},
   "outputs": [
    {
     "name": "stdout",
     "output_type": "stream",
     "text": [
      "[]\n"
     ]
    }
   ],
   "source": [
    "# Q8: Second Largest Element\n",
    "# Write a function second_largest(lst) that returns the second largest number in a list.\n",
    "\n",
    "ln1 = [1,4,5,6,7,8,92,252]\n",
    "        \n",
    "def second_largest(lst):\n",
    "    unique_lst= []\n",
    "    # if len(unique_lst) < 2:\n",
    "    #     return None \n",
    "    unique_lst.sort()\n",
    "    return unique_lst[-2:] \n",
    "print(second_largest(ln1))"
   ]
  },
  {
   "cell_type": "code",
   "execution_count": 58,
   "metadata": {},
   "outputs": [
    {
     "name": "stdout",
     "output_type": "stream",
     "text": [
      "[5, 6, 7, 1, 2, 3, 4]\n"
     ]
    }
   ],
   "source": [
    "def rotate_list(lst, k):\n",
    "    if not lst:\n",
    "        return []\n",
    "    k = k % len(lst) \n",
    "    return lst[-k:] + lst[:-k]\n",
    "print(rotate_list([1, 2, 3, 4, 5,6,7], 3))"
   ]
  },
  {
   "cell_type": "code",
   "execution_count": null,
   "metadata": {},
   "outputs": [],
   "source": []
  }
 ],
 "metadata": {
  "kernelspec": {
   "display_name": "venv",
   "language": "python",
   "name": "python3"
  },
  "language_info": {
   "codemirror_mode": {
    "name": "ipython",
    "version": 3
   },
   "file_extension": ".py",
   "mimetype": "text/x-python",
   "name": "python",
   "nbconvert_exporter": "python",
   "pygments_lexer": "ipython3",
   "version": "3.12.3"
  }
 },
 "nbformat": 4,
 "nbformat_minor": 2
}
