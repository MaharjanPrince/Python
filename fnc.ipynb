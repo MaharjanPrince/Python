{
 "cells": [
  {
   "cell_type": "markdown",
   "metadata": {},
   "source": [
    "# Excersie"
   ]
  },
  {
   "cell_type": "code",
   "execution_count": 3,
   "metadata": {},
   "outputs": [
    {
     "name": "stdout",
     "output_type": "stream",
     "text": [
      "20\n"
     ]
    }
   ],
   "source": [
    "#area of rectangle that returns the area of rectangle\n",
    "\n",
    "def area(len, breadth):\n",
    "    areacal = len * breadth\n",
    "    return areacal\n",
    "\n",
    "print(area(4,5))"
   ]
  },
  {
   "cell_type": "code",
   "execution_count": 4,
   "metadata": {},
   "outputs": [
    {
     "name": "stdout",
     "output_type": "stream",
     "text": [
      "True\n"
     ]
    }
   ],
   "source": [
    "# function is even or od\n",
    "\n",
    "def checker(num):\n",
    "    if num % 2 == 0:\n",
    "        return True\n",
    "    else:\n",
    "        return False\n",
    "print(checker(2))"
   ]
  },
  {
   "cell_type": "code",
   "execution_count": 14,
   "metadata": {},
   "outputs": [
    {
     "name": "stdout",
     "output_type": "stream",
     "text": [
      "[4, 16, 125, 343, 64, 729]\n"
     ]
    }
   ],
   "source": [
    "#takes a list of numbers as parameter and return with square of even numbers and cube of odd numbers\n",
    "numList = [2, 4, 5, 7, 8, 9]\n",
    "newList = []\n",
    "\n",
    "def gen(numberList):\n",
    "    for num in numberList:\n",
    "        if num % 2 == 0:\n",
    "            sqnum = num * num\n",
    "            newList.append(sqnum)\n",
    "        else:\n",
    "            cnum = num ** 3\n",
    "            newList.append(cnum)\n",
    "\n",
    "gen(numList)  # Call the function to populate newList\n",
    "print(newList)"
   ]
  },
  {
   "cell_type": "code",
   "execution_count": null,
   "metadata": {},
   "outputs": [],
   "source": []
  }
 ],
 "metadata": {
  "kernelspec": {
   "display_name": "venv",
   "language": "python",
   "name": "python3"
  },
  "language_info": {
   "codemirror_mode": {
    "name": "ipython",
    "version": 3
   },
   "file_extension": ".py",
   "mimetype": "text/x-python",
   "name": "python",
   "nbconvert_exporter": "python",
   "pygments_lexer": "ipython3",
   "version": "3.12.3"
  }
 },
 "nbformat": 4,
 "nbformat_minor": 2
}
